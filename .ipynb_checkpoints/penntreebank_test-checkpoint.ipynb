{
 "cells": [
  {
   "cell_type": "code",
   "execution_count": 3,
   "metadata": {},
   "outputs": [],
   "source": [
    "import numpy as np\n",
    "from scipy.stats import pearsonr,spearmanr\n",
    "import sys\n",
    "from os.path import join\n",
    "from train_model import sent_util\n",
    "import torch\n",
    "from torchtext import data, datasets\n",
    "import pandas as pd\n",
    "import nltk\n",
    "import nltk.corpus"
   ]
  },
  {
   "cell_type": "code",
   "execution_count": null,
   "metadata": {},
   "outputs": [],
   "source": [
    "\n"
   ]
  },
  {
   "cell_type": "code",
   "execution_count": null,
   "metadata": {
    "scrolled": true
   },
   "outputs": [],
   "source": []
  },
  {
   "cell_type": "code",
   "execution_count": 4,
   "metadata": {},
   "outputs": [],
   "source": [
    "device = torch.device('cuda' if torch.cuda.is_available() else 'cpu')"
   ]
  },
  {
   "cell_type": "code",
   "execution_count": 5,
   "metadata": {},
   "outputs": [],
   "source": [
    "def get_sst_trees():\n",
    "    \n",
    "    inputs = data.Field(lower='preserve-case')\n",
    "    answers = data.Field(sequential=False, unk_token=None)\n",
    "\n",
    "    train_s, dev_s, test_s = datasets.SST.splits(inputs, answers, \n",
    "                                                 fine_grained = False, \n",
    "                                                 train_subtrees = True,\n",
    "                                                 filter_pred=lambda ex: ex.label != 'neutral')\n",
    "    \n",
    "    inputs.build_vocab(train_s, dev_s, test_s)\n",
    "    answers.build_vocab(train_s)\n",
    "    \n",
    "    train_iter, dev_iter, test_iter = data.BucketIterator.splits(\n",
    "        (train_s, dev_s, test_s), batch_size=1, device=device)\n",
    "    \n",
    "    return inputs, answers, train_iter, dev_iter, test_iter\n"
   ]
  },
  {
   "cell_type": "code",
   "execution_count": 6,
   "metadata": {},
   "outputs": [],
   "source": [
    "inputs, answers, train_iter, dev_iter, test_iter = get_sst_trees()"
   ]
  },
  {
   "cell_type": "code",
   "execution_count": 7,
   "metadata": {},
   "outputs": [
    {
     "name": "stdout",
     "output_type": "stream",
     "text": [
      "getting batches...\n"
     ]
    }
   ],
   "source": [
    "batches = sent_util.get_batches_iterator([i for i in range(10)], train_iter)"
   ]
  },
  {
   "cell_type": "code",
   "execution_count": 8,
   "metadata": {
    "scrolled": true
   },
   "outputs": [
    {
     "name": "stdout",
     "output_type": "stream",
     "text": [
      "['to', 'sneak', 'out', 'of', 'the', 'theater'] negative\n",
      "['sad'] negative\n",
      "['is', 'this', 'films', 'reason', 'for', 'being', '.'] positive\n",
      "['you', 'wish', 'had', 'been', 'developed', 'with', 'more', 'care'] negative\n",
      "['of', 'the', 'holiday', 'box', 'office', 'pie'] positive\n",
      "['to', 'this', 'film', 'that', 'may', 'not', 'always', 'work'] negative\n",
      "['i', 'killed', 'my', 'father', 'compelling'] positive\n",
      "[',', 'mostly', 'martha', 'will', 'leave', 'you', 'with', 'a', 'smile', 'on', 'your', 'face', 'and', 'a', 'grumble', 'in', 'your', 'stomach', '.'] positive\n",
      "['theater'] positive\n"
     ]
    }
   ],
   "source": [
    "for index in batches:\n",
    "    text = batches[index].text.data[:,0]\n",
    "    print([inputs.vocab.itos[i] for i in text], answers.vocab.itos[batches[index].label.data])"
   ]
  },
  {
   "cell_type": "code",
   "execution_count": 9,
   "metadata": {},
   "outputs": [],
   "source": [
    "sst_reader = nltk.corpus.BracketParseCorpusReader(\"/Users/silanhe/Documents/McGill/Grad/WINTER2020/NLU/sst/trees\", \".*.txt\")"
   ]
  },
  {
   "cell_type": "code",
   "execution_count": 10,
   "metadata": {},
   "outputs": [],
   "source": [
    "sst_sentences = sst_reader.sents(\"train.txt\")"
   ]
  },
  {
   "cell_type": "code",
   "execution_count": 11,
   "metadata": {},
   "outputs": [],
   "source": [
    "sst = sst_reader.parsed_sents(\"train.txt\")"
   ]
  },
  {
   "cell_type": "code",
   "execution_count": 12,
   "metadata": {},
   "outputs": [
    {
     "data": {
      "text/plain": [
       "8544"
      ]
     },
     "execution_count": 12,
     "metadata": {},
     "output_type": "execute_result"
    }
   ],
   "source": [
    "len(sst)"
   ]
  },
  {
   "cell_type": "code",
   "execution_count": 41,
   "metadata": {},
   "outputs": [],
   "source": [
    "def travelTree(node):\n",
    "    \n",
    "    index_words = 0\n",
    "    \n",
    "    def dfs(node):\n",
    "        nonlocal index_words\n",
    "        if isinstance(node,str):\n",
    "            list_return = [index_words]\n",
    "            index_words += 1\n",
    "            return list_return\n",
    "\n",
    "        else:\n",
    "            score = node.label()\n",
    "            len_node = len(node)\n",
    "            \n",
    "            subtree_list_words = []\n",
    "            if len(node) > 0:\n",
    "                subtree_list_words += dfs(node[0])\n",
    "            if len(node) > 1:\n",
    "                subtree_list_words += dfs(node[1])\n",
    "            \n",
    "            # get CD score\n",
    "#             print(score,min(subtree_list_words), max(subtree_list_words))\n",
    "            \n",
    "            return subtree_list_words\n",
    "    dfs(node)"
   ]
  },
  {
   "cell_type": "code",
   "execution_count": 42,
   "metadata": {},
   "outputs": [
    {
     "name": "stdout",
     "output_type": "stream",
     "text": [
      "the rock is destined to be the 21st century 's new `` conan '' and that he 's going to make a splash even greater than arnold schwarzenegger , jean-claud van damme or steven segal .\n",
      "(3\n",
      "  (2 (2 The) (2 Rock))\n",
      "  (4\n",
      "    (3\n",
      "      (2 is)\n",
      "      (4\n",
      "        (2 destined)\n",
      "        (2\n",
      "          (2\n",
      "            (2\n",
      "              (2\n",
      "                (2 to)\n",
      "                (2\n",
      "                  (2 be)\n",
      "                  (2\n",
      "                    (2 the)\n",
      "                    (2\n",
      "                      (2 21st)\n",
      "                      (2\n",
      "                        (2 (2 Century) (2 's))\n",
      "                        (2 (3 new) (2 (2 ``) (2 Conan))))))))\n",
      "              (2 ''))\n",
      "            (2 and))\n",
      "          (3\n",
      "            (2 that)\n",
      "            (3\n",
      "              (2 he)\n",
      "              (3\n",
      "                (2 's)\n",
      "                (3\n",
      "                  (2 going)\n",
      "                  (3\n",
      "                    (2 to)\n",
      "                    (4\n",
      "                      (3\n",
      "                        (2 make)\n",
      "                        (3\n",
      "                          (3 (2 a) (3 splash))\n",
      "                          (2 (2 even) (3 greater))))\n",
      "                      (2\n",
      "                        (2 than)\n",
      "                        (2\n",
      "                          (2\n",
      "                            (2\n",
      "                              (2\n",
      "                                (1 (2 Arnold) (2 Schwarzenegger))\n",
      "                                (2 ,))\n",
      "                              (2\n",
      "                                (2 Jean-Claud)\n",
      "                                (2 (2 Van) (2 Damme))))\n",
      "                            (2 or))\n",
      "                          (2 (2 Steven) (2 Segal)))))))))))))\n",
      "    (2 .)))\n",
      "2 0 0\n",
      "2 1 1\n",
      "2 0 1\n",
      "2 2 2\n",
      "2 3 3\n",
      "2 4 4\n",
      "2 5 5\n",
      "2 6 6\n",
      "2 7 7\n",
      "2 8 8\n",
      "2 9 9\n",
      "2 8 9\n",
      "3 10 10\n",
      "2 11 11\n",
      "2 12 12\n",
      "2 11 12\n",
      "2 10 12\n",
      "2 8 12\n",
      "2 7 12\n",
      "2 6 12\n",
      "2 5 12\n",
      "2 4 12\n",
      "2 13 13\n",
      "2 4 13\n",
      "2 14 14\n",
      "2 4 14\n",
      "2 15 15\n",
      "2 16 16\n",
      "2 17 17\n",
      "2 18 18\n",
      "2 19 19\n",
      "2 20 20\n",
      "2 21 21\n",
      "3 22 22\n",
      "3 21 22\n",
      "2 23 23\n",
      "3 24 24\n",
      "2 23 24\n",
      "3 21 24\n",
      "3 20 24\n",
      "2 25 25\n",
      "2 26 26\n",
      "2 27 27\n",
      "1 26 27\n",
      "2 28 28\n",
      "2 26 28\n",
      "2 29 29\n",
      "2 30 30\n",
      "2 31 31\n",
      "2 30 31\n",
      "2 29 31\n",
      "2 26 31\n",
      "2 32 32\n",
      "2 26 32\n",
      "2 33 33\n",
      "2 34 34\n",
      "2 33 34\n",
      "2 26 34\n",
      "2 25 34\n",
      "4 20 34\n",
      "3 19 34\n",
      "3 18 34\n",
      "3 17 34\n",
      "3 16 34\n",
      "3 15 34\n",
      "2 4 34\n",
      "4 3 34\n",
      "3 2 34\n",
      "2 35 35\n",
      "4 2 35\n",
      "3 0 35\n"
     ]
    }
   ],
   "source": [
    "for index,tree in enumerate(sst):\n",
    "    words= [nltk.word_tokenize(word.lower())[0] for word in sst_sentences[index]]\n",
    "    print(' '.join(words))\n",
    "    print(tree)\n",
    "    travelTree(tree)\n",
    "    break\n",
    "\n"
   ]
  },
  {
   "cell_type": "code",
   "execution_count": 16,
   "metadata": {},
   "outputs": [
    {
     "data": {
      "text/plain": [
       "'3'"
      ]
     },
     "execution_count": 16,
     "metadata": {},
     "output_type": "execute_result"
    }
   ],
   "source": [
    "tree.label()"
   ]
  },
  {
   "cell_type": "code",
   "execution_count": 22,
   "metadata": {},
   "outputs": [
    {
     "data": {
      "text/plain": [
       "'The'"
      ]
     },
     "execution_count": 22,
     "metadata": {},
     "output_type": "execute_result"
    }
   ],
   "source": [
    "tree[0][0][0]"
   ]
  },
  {
   "cell_type": "code",
   "execution_count": null,
   "metadata": {},
   "outputs": [],
   "source": []
  }
 ],
 "metadata": {
  "kernelspec": {
   "display_name": "Python 3",
   "language": "python",
   "name": "python3"
  },
  "language_info": {
   "codemirror_mode": {
    "name": "ipython",
    "version": 3
   },
   "file_extension": ".py",
   "mimetype": "text/x-python",
   "name": "python",
   "nbconvert_exporter": "python",
   "pygments_lexer": "ipython3",
   "version": "3.7.6"
  }
 },
 "nbformat": 4,
 "nbformat_minor": 2
}
