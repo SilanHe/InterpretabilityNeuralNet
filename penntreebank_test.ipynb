{
 "cells": [
  {
   "cell_type": "code",
   "execution_count": 1,
   "metadata": {},
   "outputs": [],
   "source": [
    "import numpy as np\n",
    "from scipy.stats import pearsonr,spearmanr\n",
    "import sys\n",
    "from os.path import join\n",
    "from train_model import sent_util\n",
    "import torch\n",
    "from torchtext import data, datasets\n",
    "import pandas as pd\n",
    "import nltk\n",
    "import nltk.corpus"
   ]
  },
  {
   "cell_type": "code",
   "execution_count": 2,
   "metadata": {},
   "outputs": [],
   "source": [
    "\n"
   ]
  },
  {
   "cell_type": "code",
   "execution_count": null,
   "metadata": {
    "scrolled": true
   },
   "outputs": [],
   "source": []
  },
  {
   "cell_type": "code",
   "execution_count": 8,
   "metadata": {},
   "outputs": [],
   "source": [
    "device = torch.device('cuda' if torch.cuda.is_available() else 'cpu')"
   ]
  },
  {
   "cell_type": "code",
   "execution_count": 9,
   "metadata": {},
   "outputs": [],
   "source": [
    "def get_sst_trees():\n",
    "    \n",
    "    inputs = data.Field(lower='preserve-case')\n",
    "    answers = data.Field(sequential=False, unk_token=None)\n",
    "\n",
    "    train_s, dev_s, test_s = datasets.SST.splits(inputs, answers, \n",
    "                                                 fine_grained = False, \n",
    "                                                 train_subtrees = True,\n",
    "                                                 filter_pred=lambda ex: ex.label != 'neutral')\n",
    "    \n",
    "    inputs.build_vocab(train_s, dev_s, test_s)\n",
    "    answers.build_vocab(train_s)\n",
    "    \n",
    "    train_iter, dev_iter, test_iter = data.BucketIterator.splits(\n",
    "        (train_s, dev_s, test_s), batch_size=1, device=device)\n",
    "    \n",
    "    return inputs, answers, train_iter, dev_iter, test_iter\n"
   ]
  },
  {
   "cell_type": "code",
   "execution_count": 10,
   "metadata": {},
   "outputs": [],
   "source": [
    "inputs, answers, train_iter, dev_iter, test_iter = get_sst_trees()"
   ]
  },
  {
   "cell_type": "code",
   "execution_count": 19,
   "metadata": {},
   "outputs": [
    {
     "name": "stdout",
     "output_type": "stream",
     "text": [
      "getting batches...\n"
     ]
    }
   ],
   "source": [
    "batches = sent_util.get_batches_iterator([i for i in range(10)], train_iter)"
   ]
  },
  {
   "cell_type": "code",
   "execution_count": 24,
   "metadata": {
    "scrolled": true
   },
   "outputs": [
    {
     "name": "stdout",
     "output_type": "stream",
     "text": [
      "['entertainment'] positive\n",
      "['precious'] positive\n",
      "['a', 'stunning', 'fusion', 'of', 'music', 'and', 'images'] positive\n",
      "['the', 'strength', 'of', 'the', 'film', 'lies', 'in', 'its', 'two', 'central', 'performances', 'by', 'sven', 'wollter', 'as', 'the', 'stricken', 'composer', 'and', 'viveka', 'seldahl', 'as', 'his', 'desperate', 'violinist', 'wife', '.'] positive\n",
      "['the', 'ending', 'is', 'all', 'too', 'predictable', 'and', 'far', 'too', 'cliched', 'to', 'really', 'work'] negative\n",
      "['the', 'action', 'is', 'stilted', 'and'] negative\n",
      "['of', 'the', 'best', 'war', 'movies', 'ever', 'made'] positive\n",
      "['on', 'its', 'way'] positive\n",
      "['with', 'the', 'same', 'number', 'of', 'continuity', 'errors'] negative\n"
     ]
    }
   ],
   "source": [
    "for index in batches:\n",
    "    text = batches[index].text.data[:,0]\n",
    "    print([inputs.vocab.itos[i] for i in text], answers.vocab.itos[batches[index].label.data])"
   ]
  },
  {
   "cell_type": "code",
   "execution_count": 25,
   "metadata": {},
   "outputs": [],
   "source": [
    "sst_reader = nltk.corpus.BracketParseCorpusReader(\"/Users/silanhe/Documents/McGill/Grad/WINTER2020/NLU/sst/trees\", \".*.txt\")"
   ]
  },
  {
   "cell_type": "code",
   "execution_count": 26,
   "metadata": {},
   "outputs": [],
   "source": [
    "sst_sentences = sst_reader.sents(\"train.txt\")"
   ]
  },
  {
   "cell_type": "code",
   "execution_count": 27,
   "metadata": {},
   "outputs": [],
   "source": [
    "sst = sst_reader.parsed_sents(\"train.txt\")"
   ]
  },
  {
   "cell_type": "code",
   "execution_count": 28,
   "metadata": {},
   "outputs": [
    {
     "data": {
      "text/plain": [
       "8544"
      ]
     },
     "execution_count": 28,
     "metadata": {},
     "output_type": "execute_result"
    }
   ],
   "source": [
    "len(sst)"
   ]
  },
  {
   "cell_type": "code",
   "execution_count": null,
   "metadata": {},
   "outputs": [],
   "source": []
  },
  {
   "cell_type": "code",
   "execution_count": 38,
   "metadata": {},
   "outputs": [
    {
     "name": "stdout",
     "output_type": "stream",
     "text": [
      "the rock is destined to be the 21st century new conan and that he going to make a splash even greater than arnold schwarzenegger van damme or steven segal\n",
      "(3\n",
      "  (2 (2 The) (2 Rock))\n",
      "  (4\n",
      "    (3\n",
      "      (2 is)\n",
      "      (4\n",
      "        (2 destined)\n",
      "        (2\n",
      "          (2\n",
      "            (2\n",
      "              (2\n",
      "                (2 to)\n",
      "                (2\n",
      "                  (2 be)\n",
      "                  (2\n",
      "                    (2 the)\n",
      "                    (2\n",
      "                      (2 21st)\n",
      "                      (2\n",
      "                        (2 (2 Century) (2 's))\n",
      "                        (2 (3 new) (2 (2 ``) (2 Conan))))))))\n",
      "              (2 ''))\n",
      "            (2 and))\n",
      "          (3\n",
      "            (2 that)\n",
      "            (3\n",
      "              (2 he)\n",
      "              (3\n",
      "                (2 's)\n",
      "                (3\n",
      "                  (2 going)\n",
      "                  (3\n",
      "                    (2 to)\n",
      "                    (4\n",
      "                      (3\n",
      "                        (2 make)\n",
      "                        (3\n",
      "                          (3 (2 a) (3 splash))\n",
      "                          (2 (2 even) (3 greater))))\n",
      "                      (2\n",
      "                        (2 than)\n",
      "                        (2\n",
      "                          (2\n",
      "                            (2\n",
      "                              (2\n",
      "                                (1 (2 Arnold) (2 Schwarzenegger))\n",
      "                                (2 ,))\n",
      "                              (2\n",
      "                                (2 Jean-Claud)\n",
      "                                (2 (2 Van) (2 Damme))))\n",
      "                            (2 or))\n",
      "                          (2 (2 Steven) (2 Segal)))))))))))))\n",
      "    (2 .)))\n"
     ]
    }
   ],
   "source": [
    "for index,tree in enumerate(sst):\n",
    "    words= [nltk.word_tokenize(word.lower())[0] for word in sst_sentences[index] if word.isalnum()]\n",
    "    print(' '.join(words))\n",
    "    print(tree)\n",
    "    break"
   ]
  },
  {
   "cell_type": "code",
   "execution_count": null,
   "metadata": {},
   "outputs": [],
   "source": []
  }
 ],
 "metadata": {
  "kernelspec": {
   "display_name": "Python 3",
   "language": "python",
   "name": "python3"
  },
  "language_info": {
   "codemirror_mode": {
    "name": "ipython",
    "version": 3
   },
   "file_extension": ".py",
   "mimetype": "text/x-python",
   "name": "python",
   "nbconvert_exporter": "python",
   "pygments_lexer": "ipython3",
   "version": "3.7.6"
  }
 },
 "nbformat": 4,
 "nbformat_minor": 2
}
